{
 "cells": [
  {
   "cell_type": "markdown",
   "metadata": {},
   "source": [
    "# Gradient Boosting Classifier: Fit and evaluate a model"
   ]
  },
  {
   "cell_type": "code",
   "execution_count": 15,
   "metadata": {},
   "outputs": [],
   "source": [
    "import joblib\n",
    "import pandas as pd\n",
    "from sklearn.model_selection import GridSearchCV\n",
    "from sklearn.ensemble import GradientBoostingClassifier \n",
    "from sklearn.metrics import classification_report, confusion_matrix"
   ]
  },
  {
   "cell_type": "code",
   "execution_count": null,
   "metadata": {},
   "outputs": [],
   "source": []
  },
  {
   "cell_type": "code",
   "execution_count": 16,
   "metadata": {},
   "outputs": [],
   "source": [
    "tr_features=pd.read_csv('train_features.csv')\n",
    "tr_labels=pd.read_csv('train_labels.csv')\n",
    "\n",
    "te_features=pd.read_csv('test_features.csv')\n",
    "te_labels=pd.read_csv('test_labels.csv')"
   ]
  },
  {
   "cell_type": "code",
   "execution_count": 17,
   "metadata": {},
   "outputs": [],
   "source": [
    "def print_results(results):\n",
    "    print('Best PARAMS: {}\\n'.format(results.best_params_))\n",
    "    means=results.cv_results_['mean_test_score']\n",
    "    stds=results.cv_results_['std_test_score']\n",
    "    for mean, std, params in zip(means, stds, results.cv_results_['params']):\n",
    "        print('{} (+/-{}) for {}' .format(round(mean,3), round(std*2,3), params))"
   ]
  },
  {
   "cell_type": "code",
   "execution_count": 18,
   "metadata": {},
   "outputs": [],
   "source": [
    "gb=GradientBoostingClassifier()\n",
    "parameters = {\n",
    "    'n_estimators': [5,50,250, 500],   #how many individual decission tree\n",
    "    'max_depth':[1,3,5,7,9, None],    #how deep is each decission tree None goes as much as to see the good results\n",
    "    'learning_rate': [0.01, 0.1, 1, 10, 100]\n",
    "}"
   ]
  },
  {
   "cell_type": "code",
   "execution_count": 19,
   "metadata": {},
   "outputs": [],
   "source": [
    "cv=GridSearchCV(gb, parameters, cv=5)"
   ]
  },
  {
   "cell_type": "code",
   "execution_count": 20,
   "metadata": {},
   "outputs": [
    {
     "data": {
      "text/plain": [
       "GridSearchCV(cv=5, error_score=nan,\n",
       "             estimator=GradientBoostingClassifier(ccp_alpha=0.0,\n",
       "                                                  criterion='friedman_mse',\n",
       "                                                  init=None, learning_rate=0.1,\n",
       "                                                  loss='deviance', max_depth=3,\n",
       "                                                  max_features=None,\n",
       "                                                  max_leaf_nodes=None,\n",
       "                                                  min_impurity_decrease=0.0,\n",
       "                                                  min_impurity_split=None,\n",
       "                                                  min_samples_leaf=1,\n",
       "                                                  min_samples_split=2,\n",
       "                                                  min_weight_fraction_leaf=0.0,\n",
       "                                                  n_estimators=100,\n",
       "                                                  n_iter_no_change=None,\n",
       "                                                  presort='deprecated',\n",
       "                                                  random_state=None,\n",
       "                                                  subsample=1.0, tol=0.0001,\n",
       "                                                  validation_fraction=0.1,\n",
       "                                                  verbose=0, warm_start=False),\n",
       "             iid='deprecated', n_jobs=None,\n",
       "             param_grid={'learning_rate': [0.01, 0.1, 1, 10, 100],\n",
       "                         'max_depth': [1, 3, 5, 7, 9, None],\n",
       "                         'n_estimators': [5, 50, 250, 500]},\n",
       "             pre_dispatch='2*n_jobs', refit=True, return_train_score=False,\n",
       "             scoring=None, verbose=0)"
      ]
     },
     "execution_count": 20,
     "metadata": {},
     "output_type": "execute_result"
    }
   ],
   "source": [
    "cv.fit(tr_features, tr_labels.values.ravel())  #column vactor to array"
   ]
  },
  {
   "cell_type": "code",
   "execution_count": 21,
   "metadata": {},
   "outputs": [
    {
     "name": "stdout",
     "output_type": "stream",
     "text": [
      "Best PARAMS: {'learning_rate': 0.1, 'max_depth': 3, 'n_estimators': 50}\n",
      "\n",
      "0.624 (+/-0.007) for {'learning_rate': 0.01, 'max_depth': 1, 'n_estimators': 5}\n",
      "0.796 (+/-0.115) for {'learning_rate': 0.01, 'max_depth': 1, 'n_estimators': 50}\n",
      "0.796 (+/-0.115) for {'learning_rate': 0.01, 'max_depth': 1, 'n_estimators': 250}\n",
      "0.811 (+/-0.117) for {'learning_rate': 0.01, 'max_depth': 1, 'n_estimators': 500}\n",
      "0.624 (+/-0.007) for {'learning_rate': 0.01, 'max_depth': 3, 'n_estimators': 5}\n",
      "0.815 (+/-0.075) for {'learning_rate': 0.01, 'max_depth': 3, 'n_estimators': 50}\n",
      "0.83 (+/-0.074) for {'learning_rate': 0.01, 'max_depth': 3, 'n_estimators': 250}\n",
      "0.841 (+/-0.041) for {'learning_rate': 0.01, 'max_depth': 3, 'n_estimators': 500}\n",
      "0.624 (+/-0.007) for {'learning_rate': 0.01, 'max_depth': 5, 'n_estimators': 5}\n",
      "0.824 (+/-0.054) for {'learning_rate': 0.01, 'max_depth': 5, 'n_estimators': 50}\n",
      "0.837 (+/-0.03) for {'learning_rate': 0.01, 'max_depth': 5, 'n_estimators': 250}\n",
      "0.82 (+/-0.039) for {'learning_rate': 0.01, 'max_depth': 5, 'n_estimators': 500}\n",
      "0.624 (+/-0.007) for {'learning_rate': 0.01, 'max_depth': 7, 'n_estimators': 5}\n",
      "0.818 (+/-0.065) for {'learning_rate': 0.01, 'max_depth': 7, 'n_estimators': 50}\n",
      "0.818 (+/-0.015) for {'learning_rate': 0.01, 'max_depth': 7, 'n_estimators': 250}\n",
      "0.798 (+/-0.025) for {'learning_rate': 0.01, 'max_depth': 7, 'n_estimators': 500}\n",
      "0.624 (+/-0.007) for {'learning_rate': 0.01, 'max_depth': 9, 'n_estimators': 5}\n",
      "0.807 (+/-0.034) for {'learning_rate': 0.01, 'max_depth': 9, 'n_estimators': 50}\n",
      "0.805 (+/-0.045) for {'learning_rate': 0.01, 'max_depth': 9, 'n_estimators': 250}\n",
      "0.8 (+/-0.025) for {'learning_rate': 0.01, 'max_depth': 9, 'n_estimators': 500}\n",
      "0.624 (+/-0.007) for {'learning_rate': 0.01, 'max_depth': None, 'n_estimators': 5}\n",
      "0.777 (+/-0.022) for {'learning_rate': 0.01, 'max_depth': None, 'n_estimators': 50}\n",
      "0.781 (+/-0.035) for {'learning_rate': 0.01, 'max_depth': None, 'n_estimators': 250}\n",
      "0.781 (+/-0.035) for {'learning_rate': 0.01, 'max_depth': None, 'n_estimators': 500}\n",
      "0.796 (+/-0.115) for {'learning_rate': 0.1, 'max_depth': 1, 'n_estimators': 5}\n",
      "0.811 (+/-0.117) for {'learning_rate': 0.1, 'max_depth': 1, 'n_estimators': 50}\n",
      "0.818 (+/-0.092) for {'learning_rate': 0.1, 'max_depth': 1, 'n_estimators': 250}\n",
      "0.828 (+/-0.085) for {'learning_rate': 0.1, 'max_depth': 1, 'n_estimators': 500}\n",
      "0.815 (+/-0.072) for {'learning_rate': 0.1, 'max_depth': 3, 'n_estimators': 5}\n",
      "0.841 (+/-0.042) for {'learning_rate': 0.1, 'max_depth': 3, 'n_estimators': 50}\n",
      "0.824 (+/-0.031) for {'learning_rate': 0.1, 'max_depth': 3, 'n_estimators': 250}\n",
      "0.816 (+/-0.04) for {'learning_rate': 0.1, 'max_depth': 3, 'n_estimators': 500}\n",
      "0.818 (+/-0.066) for {'learning_rate': 0.1, 'max_depth': 5, 'n_estimators': 5}\n",
      "0.815 (+/-0.038) for {'learning_rate': 0.1, 'max_depth': 5, 'n_estimators': 50}\n",
      "0.788 (+/-0.04) for {'learning_rate': 0.1, 'max_depth': 5, 'n_estimators': 250}\n",
      "0.794 (+/-0.027) for {'learning_rate': 0.1, 'max_depth': 5, 'n_estimators': 500}\n",
      "0.815 (+/-0.054) for {'learning_rate': 0.1, 'max_depth': 7, 'n_estimators': 5}\n",
      "0.79 (+/-0.025) for {'learning_rate': 0.1, 'max_depth': 7, 'n_estimators': 50}\n",
      "0.788 (+/-0.019) for {'learning_rate': 0.1, 'max_depth': 7, 'n_estimators': 250}\n",
      "0.796 (+/-0.04) for {'learning_rate': 0.1, 'max_depth': 7, 'n_estimators': 500}\n",
      "0.813 (+/-0.037) for {'learning_rate': 0.1, 'max_depth': 9, 'n_estimators': 5}\n",
      "0.794 (+/-0.025) for {'learning_rate': 0.1, 'max_depth': 9, 'n_estimators': 50}\n",
      "0.792 (+/-0.027) for {'learning_rate': 0.1, 'max_depth': 9, 'n_estimators': 250}\n",
      "0.785 (+/-0.033) for {'learning_rate': 0.1, 'max_depth': 9, 'n_estimators': 500}\n",
      "0.773 (+/-0.025) for {'learning_rate': 0.1, 'max_depth': None, 'n_estimators': 5}\n",
      "0.775 (+/-0.043) for {'learning_rate': 0.1, 'max_depth': None, 'n_estimators': 50}\n",
      "0.773 (+/-0.04) for {'learning_rate': 0.1, 'max_depth': None, 'n_estimators': 250}\n",
      "0.783 (+/-0.035) for {'learning_rate': 0.1, 'max_depth': None, 'n_estimators': 500}\n",
      "0.813 (+/-0.074) for {'learning_rate': 1, 'max_depth': 1, 'n_estimators': 5}\n",
      "0.837 (+/-0.067) for {'learning_rate': 1, 'max_depth': 1, 'n_estimators': 50}\n",
      "0.822 (+/-0.078) for {'learning_rate': 1, 'max_depth': 1, 'n_estimators': 250}\n",
      "0.809 (+/-0.085) for {'learning_rate': 1, 'max_depth': 1, 'n_estimators': 500}\n",
      "0.818 (+/-0.069) for {'learning_rate': 1, 'max_depth': 3, 'n_estimators': 5}\n",
      "0.811 (+/-0.048) for {'learning_rate': 1, 'max_depth': 3, 'n_estimators': 50}\n",
      "0.8 (+/-0.02) for {'learning_rate': 1, 'max_depth': 3, 'n_estimators': 250}\n",
      "0.805 (+/-0.031) for {'learning_rate': 1, 'max_depth': 3, 'n_estimators': 500}\n",
      "0.815 (+/-0.039) for {'learning_rate': 1, 'max_depth': 5, 'n_estimators': 5}\n",
      "0.798 (+/-0.047) for {'learning_rate': 1, 'max_depth': 5, 'n_estimators': 50}\n",
      "0.792 (+/-0.054) for {'learning_rate': 1, 'max_depth': 5, 'n_estimators': 250}\n",
      "0.796 (+/-0.054) for {'learning_rate': 1, 'max_depth': 5, 'n_estimators': 500}\n",
      "0.777 (+/-0.07) for {'learning_rate': 1, 'max_depth': 7, 'n_estimators': 5}\n",
      "0.79 (+/-0.029) for {'learning_rate': 1, 'max_depth': 7, 'n_estimators': 50}\n",
      "0.79 (+/-0.039) for {'learning_rate': 1, 'max_depth': 7, 'n_estimators': 250}\n",
      "0.783 (+/-0.041) for {'learning_rate': 1, 'max_depth': 7, 'n_estimators': 500}\n",
      "0.783 (+/-0.05) for {'learning_rate': 1, 'max_depth': 9, 'n_estimators': 5}\n",
      "0.792 (+/-0.043) for {'learning_rate': 1, 'max_depth': 9, 'n_estimators': 50}\n",
      "0.8 (+/-0.025) for {'learning_rate': 1, 'max_depth': 9, 'n_estimators': 250}\n",
      "0.805 (+/-0.029) for {'learning_rate': 1, 'max_depth': 9, 'n_estimators': 500}\n",
      "0.758 (+/-0.065) for {'learning_rate': 1, 'max_depth': None, 'n_estimators': 5}\n",
      "0.785 (+/-0.049) for {'learning_rate': 1, 'max_depth': None, 'n_estimators': 50}\n",
      "0.809 (+/-0.048) for {'learning_rate': 1, 'max_depth': None, 'n_estimators': 250}\n",
      "0.813 (+/-0.05) for {'learning_rate': 1, 'max_depth': None, 'n_estimators': 500}\n",
      "0.204 (+/-0.115) for {'learning_rate': 10, 'max_depth': 1, 'n_estimators': 5}\n",
      "0.204 (+/-0.115) for {'learning_rate': 10, 'max_depth': 1, 'n_estimators': 50}\n",
      "0.204 (+/-0.115) for {'learning_rate': 10, 'max_depth': 1, 'n_estimators': 250}\n",
      "0.204 (+/-0.115) for {'learning_rate': 10, 'max_depth': 1, 'n_estimators': 500}\n",
      "0.251 (+/-0.11) for {'learning_rate': 10, 'max_depth': 3, 'n_estimators': 5}\n",
      "0.251 (+/-0.11) for {'learning_rate': 10, 'max_depth': 3, 'n_estimators': 50}\n",
      "0.251 (+/-0.11) for {'learning_rate': 10, 'max_depth': 3, 'n_estimators': 250}\n",
      "0.251 (+/-0.11) for {'learning_rate': 10, 'max_depth': 3, 'n_estimators': 500}\n",
      "0.417 (+/-0.221) for {'learning_rate': 10, 'max_depth': 5, 'n_estimators': 5}\n",
      "0.445 (+/-0.32) for {'learning_rate': 10, 'max_depth': 5, 'n_estimators': 50}\n",
      "0.402 (+/-0.194) for {'learning_rate': 10, 'max_depth': 5, 'n_estimators': 250}\n",
      "0.406 (+/-0.202) for {'learning_rate': 10, 'max_depth': 5, 'n_estimators': 500}\n",
      "0.607 (+/-0.152) for {'learning_rate': 10, 'max_depth': 7, 'n_estimators': 5}\n",
      "0.611 (+/-0.118) for {'learning_rate': 10, 'max_depth': 7, 'n_estimators': 50}\n",
      "0.633 (+/-0.118) for {'learning_rate': 10, 'max_depth': 7, 'n_estimators': 250}\n",
      "0.581 (+/-0.158) for {'learning_rate': 10, 'max_depth': 7, 'n_estimators': 500}\n",
      "0.685 (+/-0.12) for {'learning_rate': 10, 'max_depth': 9, 'n_estimators': 5}\n",
      "0.727 (+/-0.057) for {'learning_rate': 10, 'max_depth': 9, 'n_estimators': 50}\n",
      "0.71 (+/-0.07) for {'learning_rate': 10, 'max_depth': 9, 'n_estimators': 250}\n",
      "0.665 (+/-0.109) for {'learning_rate': 10, 'max_depth': 9, 'n_estimators': 500}\n",
      "0.762 (+/-0.042) for {'learning_rate': 10, 'max_depth': None, 'n_estimators': 5}\n",
      "0.762 (+/-0.041) for {'learning_rate': 10, 'max_depth': None, 'n_estimators': 50}\n",
      "0.764 (+/-0.037) for {'learning_rate': 10, 'max_depth': None, 'n_estimators': 250}\n",
      "0.762 (+/-0.026) for {'learning_rate': 10, 'max_depth': None, 'n_estimators': 500}\n",
      "0.376 (+/-0.007) for {'learning_rate': 100, 'max_depth': 1, 'n_estimators': 5}\n",
      "0.376 (+/-0.007) for {'learning_rate': 100, 'max_depth': 1, 'n_estimators': 50}\n",
      "0.376 (+/-0.007) for {'learning_rate': 100, 'max_depth': 1, 'n_estimators': 250}\n",
      "0.376 (+/-0.007) for {'learning_rate': 100, 'max_depth': 1, 'n_estimators': 500}\n",
      "0.307 (+/-0.105) for {'learning_rate': 100, 'max_depth': 3, 'n_estimators': 5}\n",
      "0.307 (+/-0.105) for {'learning_rate': 100, 'max_depth': 3, 'n_estimators': 50}\n",
      "0.307 (+/-0.105) for {'learning_rate': 100, 'max_depth': 3, 'n_estimators': 250}\n",
      "0.307 (+/-0.105) for {'learning_rate': 100, 'max_depth': 3, 'n_estimators': 500}\n",
      "0.342 (+/-0.161) for {'learning_rate': 100, 'max_depth': 5, 'n_estimators': 5}\n",
      "0.37 (+/-0.231) for {'learning_rate': 100, 'max_depth': 5, 'n_estimators': 50}\n",
      "0.38 (+/-0.221) for {'learning_rate': 100, 'max_depth': 5, 'n_estimators': 250}\n",
      "0.35 (+/-0.169) for {'learning_rate': 100, 'max_depth': 5, 'n_estimators': 500}\n",
      "0.541 (+/-0.211) for {'learning_rate': 100, 'max_depth': 7, 'n_estimators': 5}\n",
      "0.513 (+/-0.164) for {'learning_rate': 100, 'max_depth': 7, 'n_estimators': 50}\n",
      "0.607 (+/-0.227) for {'learning_rate': 100, 'max_depth': 7, 'n_estimators': 250}\n",
      "0.525 (+/-0.16) for {'learning_rate': 100, 'max_depth': 7, 'n_estimators': 500}\n",
      "0.683 (+/-0.067) for {'learning_rate': 100, 'max_depth': 9, 'n_estimators': 5}\n",
      "0.633 (+/-0.117) for {'learning_rate': 100, 'max_depth': 9, 'n_estimators': 50}\n",
      "0.684 (+/-0.117) for {'learning_rate': 100, 'max_depth': 9, 'n_estimators': 250}\n",
      "0.699 (+/-0.095) for {'learning_rate': 100, 'max_depth': 9, 'n_estimators': 500}\n",
      "0.745 (+/-0.038) for {'learning_rate': 100, 'max_depth': None, 'n_estimators': 5}\n",
      "0.745 (+/-0.031) for {'learning_rate': 100, 'max_depth': None, 'n_estimators': 50}\n",
      "0.753 (+/-0.053) for {'learning_rate': 100, 'max_depth': None, 'n_estimators': 250}\n",
      "0.738 (+/-0.038) for {'learning_rate': 100, 'max_depth': None, 'n_estimators': 500}\n"
     ]
    }
   ],
   "source": [
    "print_results(cv)"
   ]
  },
  {
   "cell_type": "code",
   "execution_count": 22,
   "metadata": {},
   "outputs": [
    {
     "data": {
      "text/plain": [
       "GradientBoostingClassifier(ccp_alpha=0.0, criterion='friedman_mse', init=None,\n",
       "                           learning_rate=0.1, loss='deviance', max_depth=3,\n",
       "                           max_features=None, max_leaf_nodes=None,\n",
       "                           min_impurity_decrease=0.0, min_impurity_split=None,\n",
       "                           min_samples_leaf=1, min_samples_split=2,\n",
       "                           min_weight_fraction_leaf=0.0, n_estimators=50,\n",
       "                           n_iter_no_change=None, presort='deprecated',\n",
       "                           random_state=None, subsample=1.0, tol=0.0001,\n",
       "                           validation_fraction=0.1, verbose=0,\n",
       "                           warm_start=False)"
      ]
     },
     "execution_count": 22,
     "metadata": {},
     "output_type": "execute_result"
    }
   ],
   "source": [
    "cv.best_estimator_"
   ]
  },
  {
   "cell_type": "code",
   "execution_count": 23,
   "metadata": {},
   "outputs": [
    {
     "data": {
      "text/plain": [
       "['GB_model.pkl']"
      ]
     },
     "execution_count": 23,
     "metadata": {},
     "output_type": "execute_result"
    }
   ],
   "source": [
    "joblib.dump(cv.best_estimator_, 'GB_model.pkl')"
   ]
  },
  {
   "cell_type": "code",
   "execution_count": 25,
   "metadata": {},
   "outputs": [
    {
     "data": {
      "text/plain": [
       "array([1, 0, 0, 1, 0, 0, 0, 0, 0, 0, 0, 0, 0, 0, 0, 0, 1, 0, 0, 0, 0, 1,\n",
       "       0, 0, 0, 1, 1, 0, 0, 0, 0, 0, 1, 0, 0, 0, 0, 1, 0, 0, 0, 1, 1, 0,\n",
       "       0, 0, 0, 0, 0, 1, 0, 1, 1, 1, 0, 0, 1, 0, 1, 0, 0, 1, 0, 1, 0, 0,\n",
       "       1, 0, 0, 1, 0, 0, 0, 1, 0, 0, 0, 0, 0, 1, 1, 1, 1, 0, 0, 0, 1, 0,\n",
       "       0, 0, 1, 0, 0, 0, 1, 0, 0, 1, 0, 0, 0, 0, 1, 0, 1, 0, 0, 1, 0, 1,\n",
       "       1, 0, 0, 0, 0, 0, 0, 0, 0, 0, 1, 0, 0, 0, 0, 0, 1, 0, 0, 0, 0, 0,\n",
       "       1, 0, 0, 0, 0, 1, 0, 0, 0, 0, 0, 0, 1, 0, 1, 0, 0, 0, 1, 0, 0, 0,\n",
       "       0, 0, 0, 0, 0, 1, 1, 0, 0, 1, 0, 0, 1, 0, 0, 1, 0, 0, 0, 1, 1, 1,\n",
       "       0, 1], dtype=int64)"
      ]
     },
     "execution_count": 25,
     "metadata": {},
     "output_type": "execute_result"
    }
   ],
   "source": [
    "pred_te = cv.predict(te_features)\n",
    "pred_te"
   ]
  }
 ],
 "metadata": {
  "kernelspec": {
   "display_name": "Python 3",
   "language": "python",
   "name": "python3"
  },
  "language_info": {
   "codemirror_mode": {
    "name": "ipython",
    "version": 3
   },
   "file_extension": ".py",
   "mimetype": "text/x-python",
   "name": "python",
   "nbconvert_exporter": "python",
   "pygments_lexer": "ipython3",
   "version": "3.6.8"
  }
 },
 "nbformat": 4,
 "nbformat_minor": 4
}
