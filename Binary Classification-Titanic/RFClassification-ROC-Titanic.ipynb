{
 "cells": [
  {
   "cell_type": "markdown",
   "metadata": {},
   "source": [
    "# Random Forest Classifier: Fit and evaluate a model"
   ]
  },
  {
   "cell_type": "code",
   "execution_count": 15,
   "metadata": {},
   "outputs": [],
   "source": [
    "import joblib\n",
    "import pandas as pd\n",
    "from sklearn.model_selection import GridSearchCV\n",
    "from sklearn.ensemble import RandomForestClassifier\n",
    "import numpy as np\n",
    "import matplotlib.pyplot as plt\n",
    "from sklearn.metrics import roc_curve\n",
    "from sklearn.metrics import roc_auc_score\n",
    "from sklearn.model_selection import cross_val_score"
   ]
  },
  {
   "cell_type": "code",
   "execution_count": 16,
   "metadata": {},
   "outputs": [],
   "source": [
    "tr_features=pd.read_csv('train_features.csv')\n",
    "tr_labels=pd.read_csv('train_labels.csv')\n",
    "\n",
    "te_features=pd.read_csv('test_features.csv')\n",
    "te_labels=pd.read_csv('test_labels.csv')"
   ]
  },
  {
   "cell_type": "code",
   "execution_count": 17,
   "metadata": {},
   "outputs": [],
   "source": [
    "def print_results(results):\n",
    "    print('Best PARAMS: {}\\n'.format(results.best_params_))\n",
    "    means=results.cv_results_['mean_test_score']\n",
    "    stds=results.cv_results_['std_test_score']\n",
    "    for mean, std, params in zip(means, stds, results.cv_results_['params']):\n",
    "        print('{} (+/-{}) for {}' .format(round(mean,3), round(std*2,3), params))"
   ]
  },
  {
   "cell_type": "markdown",
   "metadata": {},
   "source": [
    "### Hyperparameter tuning"
   ]
  },
  {
   "cell_type": "code",
   "execution_count": 18,
   "metadata": {},
   "outputs": [
    {
     "data": {
      "text/plain": [
       "GridSearchCV(cv=5, error_score=nan,\n",
       "             estimator=RandomForestClassifier(bootstrap=True, ccp_alpha=0.0,\n",
       "                                              class_weight=None,\n",
       "                                              criterion='gini', max_depth=None,\n",
       "                                              max_features='auto',\n",
       "                                              max_leaf_nodes=None,\n",
       "                                              max_samples=None,\n",
       "                                              min_impurity_decrease=0.0,\n",
       "                                              min_impurity_split=None,\n",
       "                                              min_samples_leaf=1,\n",
       "                                              min_samples_split=2,\n",
       "                                              min_weight_fraction_leaf=0.0,\n",
       "                                              n_estimators=100, n_jobs=None,\n",
       "                                              oob_score=False,\n",
       "                                              random_state=None, verbose=0,\n",
       "                                              warm_start=False),\n",
       "             iid='deprecated', n_jobs=None,\n",
       "             param_grid={'max_depth': [2, 14, 8, 16, 32, None],\n",
       "                         'n_estimators': [5, 50, 100, 200]},\n",
       "             pre_dispatch='2*n_jobs', refit=True, return_train_score=False,\n",
       "             scoring=None, verbose=0)"
      ]
     },
     "execution_count": 18,
     "metadata": {},
     "output_type": "execute_result"
    }
   ],
   "source": [
    "rf=RandomForestClassifier()\n",
    "\n",
    "parameters= {\n",
    "    'n_estimators': [5, 50, 100, 200],     #how many individual decission tree, defult 10\n",
    "    'max_depth':[2,14,8,16,32, None]       #how deep is each decission tree, None goes as much as can see the good resultsone\n",
    "}\n",
    "\n",
    "cv=GridSearchCV(rf, parameters, cv=5)\n",
    "cv.fit(tr_features, tr_labels.values.ravel())"
   ]
  },
  {
   "cell_type": "code",
   "execution_count": 19,
   "metadata": {},
   "outputs": [
    {
     "name": "stdout",
     "output_type": "stream",
     "text": [
      "Best PARAMS: {'max_depth': 8, 'n_estimators': 50}\n",
      "\n",
      "0.762 (+/-0.149) for {'max_depth': 2, 'n_estimators': 5}\n",
      "0.807 (+/-0.096) for {'max_depth': 2, 'n_estimators': 50}\n",
      "0.802 (+/-0.104) for {'max_depth': 2, 'n_estimators': 100}\n",
      "0.802 (+/-0.102) for {'max_depth': 2, 'n_estimators': 200}\n",
      "0.783 (+/-0.1) for {'max_depth': 14, 'n_estimators': 5}\n",
      "0.807 (+/-0.053) for {'max_depth': 14, 'n_estimators': 50}\n",
      "0.803 (+/-0.04) for {'max_depth': 14, 'n_estimators': 100}\n",
      "0.813 (+/-0.042) for {'max_depth': 14, 'n_estimators': 200}\n",
      "0.794 (+/-0.035) for {'max_depth': 8, 'n_estimators': 5}\n",
      "0.83 (+/-0.059) for {'max_depth': 8, 'n_estimators': 50}\n",
      "0.828 (+/-0.058) for {'max_depth': 8, 'n_estimators': 100}\n",
      "0.828 (+/-0.067) for {'max_depth': 8, 'n_estimators': 200}\n",
      "0.803 (+/-0.023) for {'max_depth': 16, 'n_estimators': 5}\n",
      "0.802 (+/-0.057) for {'max_depth': 16, 'n_estimators': 50}\n",
      "0.796 (+/-0.059) for {'max_depth': 16, 'n_estimators': 100}\n",
      "0.809 (+/-0.041) for {'max_depth': 16, 'n_estimators': 200}\n",
      "0.798 (+/-0.05) for {'max_depth': 32, 'n_estimators': 5}\n",
      "0.794 (+/-0.023) for {'max_depth': 32, 'n_estimators': 50}\n",
      "0.8 (+/-0.044) for {'max_depth': 32, 'n_estimators': 100}\n",
      "0.809 (+/-0.043) for {'max_depth': 32, 'n_estimators': 200}\n",
      "0.785 (+/-0.077) for {'max_depth': None, 'n_estimators': 5}\n",
      "0.805 (+/-0.035) for {'max_depth': None, 'n_estimators': 50}\n",
      "0.809 (+/-0.05) for {'max_depth': None, 'n_estimators': 100}\n",
      "0.803 (+/-0.058) for {'max_depth': None, 'n_estimators': 200}\n"
     ]
    }
   ],
   "source": [
    "print_results(cv)"
   ]
  },
  {
   "cell_type": "code",
   "execution_count": 20,
   "metadata": {},
   "outputs": [
    {
     "data": {
      "text/plain": [
       "RandomForestClassifier(bootstrap=True, ccp_alpha=0.0, class_weight=None,\n",
       "                       criterion='gini', max_depth=8, max_features='auto',\n",
       "                       max_leaf_nodes=None, max_samples=None,\n",
       "                       min_impurity_decrease=0.0, min_impurity_split=None,\n",
       "                       min_samples_leaf=1, min_samples_split=2,\n",
       "                       min_weight_fraction_leaf=0.0, n_estimators=50,\n",
       "                       n_jobs=None, oob_score=False, random_state=None,\n",
       "                       verbose=0, warm_start=False)"
      ]
     },
     "execution_count": 20,
     "metadata": {},
     "output_type": "execute_result"
    }
   ],
   "source": [
    "cv.best_estimator_"
   ]
  },
  {
   "cell_type": "code",
   "execution_count": 21,
   "metadata": {},
   "outputs": [
    {
     "data": {
      "text/plain": [
       "array([0.80373832, 0.80373832, 0.77570093, 0.79439252, 0.83962264])"
      ]
     },
     "execution_count": 21,
     "metadata": {},
     "output_type": "execute_result"
    }
   ],
   "source": [
    "scores = cross_val_score(rf, tr_features, tr_labels.values.ravel(), cv=5)\n",
    "scores"
   ]
  },
  {
   "cell_type": "markdown",
   "metadata": {},
   "source": [
    "### Write out pickled model"
   ]
  },
  {
   "cell_type": "code",
   "execution_count": 22,
   "metadata": {},
   "outputs": [
    {
     "data": {
      "text/plain": [
       "['RF_model.pkl']"
      ]
     },
     "execution_count": 22,
     "metadata": {},
     "output_type": "execute_result"
    }
   ],
   "source": [
    "joblib.dump(cv.best_estimator_, 'RF_model.pkl')"
   ]
  },
  {
   "cell_type": "markdown",
   "metadata": {},
   "source": [
    "# Feature Importance"
   ]
  },
  {
   "cell_type": "markdown",
   "metadata": {},
   "source": [
    "It used only for decision trees and RF"
   ]
  },
  {
   "cell_type": "code",
   "execution_count": 23,
   "metadata": {},
   "outputs": [],
   "source": [
    "# for loading example\n",
    "model=joblib.load('RF_model.pkl')"
   ]
  },
  {
   "cell_type": "code",
   "execution_count": 24,
   "metadata": {},
   "outputs": [],
   "source": [
    "feature_labels = np.array(list(tr_features.columns))"
   ]
  },
  {
   "cell_type": "code",
   "execution_count": 25,
   "metadata": {},
   "outputs": [],
   "source": [
    "importance=model.feature_importances_"
   ]
  },
  {
   "cell_type": "code",
   "execution_count": 26,
   "metadata": {},
   "outputs": [],
   "source": [
    "feature_indexes_by_importance=importance.argsort()"
   ]
  },
  {
   "cell_type": "code",
   "execution_count": 27,
   "metadata": {},
   "outputs": [
    {
     "name": "stdout",
     "output_type": "stream",
     "text": [
      "Q - 1.309417%\n",
      "S - 3.219711%\n",
      "Cabin_ind - 4.890104%\n",
      "Family_cnt - 8.166648%\n",
      "Pclass - 9.956860%\n",
      "Age - 17.403825%\n",
      "Fare - 20.074812%\n",
      "Sex - 34.978623%\n"
     ]
    }
   ],
   "source": [
    "for index in feature_indexes_by_importance:\n",
    "    print(\"{} - {:2f}%\".format(feature_labels[index], (importance[index]*100)))"
   ]
  },
  {
   "cell_type": "code",
   "execution_count": 28,
   "metadata": {},
   "outputs": [
    {
     "data": {
      "text/plain": [
       "[(0.3497862298332742, 'Sex'),\n",
       " (0.2007481162123869, 'Fare'),\n",
       " (0.1740382468253217, 'Age'),\n",
       " (0.09956860484706924, 'Pclass'),\n",
       " (0.08166648254707169, 'Family_cnt'),\n",
       " (0.048901039857146, 'Cabin_ind'),\n",
       " (0.03219710525229101, 'S'),\n",
       " (0.013094174625439313, 'Q')]"
      ]
     },
     "execution_count": 28,
     "metadata": {},
     "output_type": "execute_result"
    }
   ],
   "source": [
    "sorted(zip(importance, feature_labels),reverse=True)[0:10]"
   ]
  },
  {
   "cell_type": "markdown",
   "metadata": {},
   "source": [
    "# ROC Curve"
   ]
  },
  {
   "cell_type": "markdown",
   "metadata": {},
   "source": [
    "A ROC curve is one more important metric, and it’s a most commonly used way to\n",
    "visualize the performance of a binary classifier, and AUC is believed to be one of the best\n",
    "ways to summarize performance in a single number. AUC indicates that the probability\n",
    "of a randomly selected positive example will be scored higher by the classifier than a\n",
    "randomly selected negative example. If you have multiple models with nearly the same\n",
    "accuracy, you can pick the one that gives a higher AUC"
   ]
  },
  {
   "cell_type": "code",
   "execution_count": 29,
   "metadata": {},
   "outputs": [],
   "source": [
    "def plot_roc_curve(fpr, tpr):\n",
    "    plt.plot(fpr, tpr, color='orange', label='ROC')\n",
    "    plt.plot([0, 1], [0, 1], color='darkblue', linestyle='--')\n",
    "    plt.xlabel('False Positive Rate')\n",
    "    plt.ylabel('True Positive Rate')\n",
    "    plt.title('Receiver Operating Characteristic (ROC) Curve')\n",
    "    plt.legend()"
   ]
  },
  {
   "cell_type": "code",
   "execution_count": 30,
   "metadata": {},
   "outputs": [
    {
     "name": "stdout",
     "output_type": "stream",
     "text": [
      "AUC: 0.85\n"
     ]
    },
    {
     "data": {
      "image/png": "[encoded data removed]",
      "text/plain": [
       "<Figure size 432x288 with 1 Axes>"
      ]
     },
     "metadata": {
      "needs_background": "light"
     },
     "output_type": "display_data"
    }
   ],
   "source": [
    "probs = model.predict_proba(te_features)\n",
    "probs = probs[:, 1]\n",
    "auc = roc_auc_score(te_labels, probs)\n",
    "print('AUC: %.2f' % auc)\n",
    "fpr, tpr, thresholds = roc_curve(te_labels, probs)\n",
    "plot_roc_curve(fpr, tpr)"
   ]
  }
 ],
 "metadata": {
  "kernelspec": {
   "display_name": "Python 3",
   "language": "python",
   "name": "python3"
  },
  "language_info": {
   "codemirror_mode": {
    "name": "ipython",
    "version": 3
   },
   "file_extension": ".py",
   "mimetype": "text/x-python",
   "name": "python",
   "nbconvert_exporter": "python",
   "pygments_lexer": "ipython3",
   "version": "3.6.8"
  }
 },
 "nbformat": 4,
 "nbformat_minor": 4
}
