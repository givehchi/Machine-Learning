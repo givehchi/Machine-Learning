{
 "cells": [
  {
   "cell_type": "markdown",
   "metadata": {},
   "source": [
    "# Support Vector Machine Classifier (SVM): Fit and evaluate a model"
   ]
  },
  {
   "cell_type": "code",
   "execution_count": 1,
   "metadata": {},
   "outputs": [],
   "source": [
    "import joblib\n",
    "import pandas as pd\n",
    "from sklearn.svm import SVC\n",
    "from sklearn.model_selection import GridSearchCV\n",
    "from sklearn.model_selection import cross_val_score"
   ]
  },
  {
   "cell_type": "code",
   "execution_count": 3,
   "metadata": {},
   "outputs": [],
   "source": [
    "tr_features=pd.read_csv('train_features.csv')\n",
    "tr_labels=pd.read_csv('train_labels.csv')\n",
    "\n",
    "te_features=pd.read_csv('test_features.csv')\n",
    "te_labels=pd.read_csv('test_labels.csv ')"
   ]
  },
  {
   "cell_type": "code",
   "execution_count": 6,
   "metadata": {},
   "outputs": [
    {
     "data": {
      "text/plain": [
       "(178, 1)"
      ]
     },
     "execution_count": 6,
     "metadata": {},
     "output_type": "execute_result"
    }
   ],
   "source": [
    "te_labels.shape"
   ]
  },
  {
   "cell_type": "code",
   "execution_count": 8,
   "metadata": {},
   "outputs": [
    {
     "data": {
      "text/plain": [
       "(178, 8)"
      ]
     },
     "execution_count": 8,
     "metadata": {},
     "output_type": "execute_result"
    }
   ],
   "source": [
    "te_features.shape"
   ]
  },
  {
   "cell_type": "code",
   "execution_count": 10,
   "metadata": {},
   "outputs": [
    {
     "data": {
      "text/plain": [
       "(178,)"
      ]
     },
     "execution_count": 10,
     "metadata": {},
     "output_type": "execute_result"
    }
   ],
   "source": [
    "te_labels.values.ravel().shape"
   ]
  },
  {
   "cell_type": "code",
   "execution_count": 14,
   "metadata": {},
   "outputs": [
    {
     "data": {
      "text/plain": [
       "numpy.ndarray"
      ]
     },
     "execution_count": 14,
     "metadata": {},
     "output_type": "execute_result"
    }
   ],
   "source": [
    "type(te_labels.values.ravel())"
   ]
  },
  {
   "cell_type": "code",
   "execution_count": 15,
   "metadata": {},
   "outputs": [
    {
     "data": {
      "text/plain": [
       "pandas.core.frame.DataFrame"
      ]
     },
     "execution_count": 15,
     "metadata": {},
     "output_type": "execute_result"
    }
   ],
   "source": [
    "type(te_labels)"
   ]
  },
  {
   "cell_type": "code",
   "execution_count": 16,
   "metadata": {},
   "outputs": [],
   "source": [
    "def print_results(results):\n",
    "    print('Best PARAMS: {}\\n'.format(results.best_params_))\n",
    "    means=results.cv_results_['mean_test_score']\n",
    "    stds=results.cv_results_['std_test_score']\n",
    "    for mean, std, params in zip(means, stds, results.cv_results_['params']):\n",
    "        print('{} (+/-{}) for {}' .format(round(mean,3), round(std*2,3), params))"
   ]
  },
  {
   "cell_type": "code",
   "execution_count": 17,
   "metadata": {},
   "outputs": [],
   "source": [
    "svc=SVC()\n",
    "parameters={\n",
    "        'kernel':['linear', 'rbf'],\n",
    "         'C': [0.1, 1, 10],\n",
    "         'gamma': [1, 0.1, 0.01, 0.001, 0.0001]\n",
    "}"
   ]
  },
  {
   "cell_type": "code",
   "execution_count": 18,
   "metadata": {},
   "outputs": [
    {
     "data": {
      "text/plain": [
       "GridSearchCV(cv=5, error_score=nan,\n",
       "             estimator=SVC(C=1.0, break_ties=False, cache_size=200,\n",
       "                           class_weight=None, coef0=0.0,\n",
       "                           decision_function_shape='ovr', degree=3,\n",
       "                           gamma='scale', kernel='rbf', max_iter=-1,\n",
       "                           probability=False, random_state=None, shrinking=True,\n",
       "                           tol=0.001, verbose=False),\n",
       "             iid='deprecated', n_jobs=None,\n",
       "             param_grid={'C': [0.1, 1, 10],\n",
       "                         'gamma': [1, 0.1, 0.01, 0.001, 0.0001],\n",
       "                         'kernel': ['linear', 'rbf']},\n",
       "             pre_dispatch='2*n_jobs', refit=True, return_train_score=False,\n",
       "             scoring=None, verbose=0)"
      ]
     },
     "execution_count": 18,
     "metadata": {},
     "output_type": "execute_result"
    }
   ],
   "source": [
    "cv=GridSearchCV(svc, parameters, cv=5)\n",
    "cv.fit(tr_features, tr_labels.values.ravel())"
   ]
  },
  {
   "cell_type": "code",
   "execution_count": 19,
   "metadata": {},
   "outputs": [
    {
     "name": "stdout",
     "output_type": "stream",
     "text": [
      "Best PARAMS: {'C': 1, 'gamma': 1, 'kernel': 'rbf'}\n",
      "\n",
      "0.796 (+/-0.115) for {'C': 0.1, 'gamma': 1, 'kernel': 'linear'}\n",
      "0.803 (+/-0.117) for {'C': 0.1, 'gamma': 1, 'kernel': 'rbf'}\n",
      "0.796 (+/-0.115) for {'C': 0.1, 'gamma': 0.1, 'kernel': 'linear'}\n",
      "0.796 (+/-0.115) for {'C': 0.1, 'gamma': 0.1, 'kernel': 'rbf'}\n",
      "0.796 (+/-0.115) for {'C': 0.1, 'gamma': 0.01, 'kernel': 'linear'}\n",
      "0.624 (+/-0.007) for {'C': 0.1, 'gamma': 0.01, 'kernel': 'rbf'}\n",
      "0.796 (+/-0.115) for {'C': 0.1, 'gamma': 0.001, 'kernel': 'linear'}\n",
      "0.624 (+/-0.007) for {'C': 0.1, 'gamma': 0.001, 'kernel': 'rbf'}\n",
      "0.796 (+/-0.115) for {'C': 0.1, 'gamma': 0.0001, 'kernel': 'linear'}\n",
      "0.624 (+/-0.007) for {'C': 0.1, 'gamma': 0.0001, 'kernel': 'rbf'}\n",
      "0.796 (+/-0.115) for {'C': 1, 'gamma': 1, 'kernel': 'linear'}\n",
      "0.809 (+/-0.094) for {'C': 1, 'gamma': 1, 'kernel': 'rbf'}\n",
      "0.796 (+/-0.115) for {'C': 1, 'gamma': 0.1, 'kernel': 'linear'}\n",
      "0.796 (+/-0.115) for {'C': 1, 'gamma': 0.1, 'kernel': 'rbf'}\n",
      "0.796 (+/-0.115) for {'C': 1, 'gamma': 0.01, 'kernel': 'linear'}\n",
      "0.796 (+/-0.115) for {'C': 1, 'gamma': 0.01, 'kernel': 'rbf'}\n",
      "0.796 (+/-0.115) for {'C': 1, 'gamma': 0.001, 'kernel': 'linear'}\n",
      "0.624 (+/-0.007) for {'C': 1, 'gamma': 0.001, 'kernel': 'rbf'}\n",
      "0.796 (+/-0.115) for {'C': 1, 'gamma': 0.0001, 'kernel': 'linear'}\n",
      "0.624 (+/-0.007) for {'C': 1, 'gamma': 0.0001, 'kernel': 'rbf'}\n",
      "0.796 (+/-0.115) for {'C': 10, 'gamma': 1, 'kernel': 'linear'}\n",
      "0.809 (+/-0.081) for {'C': 10, 'gamma': 1, 'kernel': 'rbf'}\n",
      "0.796 (+/-0.115) for {'C': 10, 'gamma': 0.1, 'kernel': 'linear'}\n",
      "0.802 (+/-0.107) for {'C': 10, 'gamma': 0.1, 'kernel': 'rbf'}\n",
      "0.796 (+/-0.115) for {'C': 10, 'gamma': 0.01, 'kernel': 'linear'}\n",
      "0.796 (+/-0.115) for {'C': 10, 'gamma': 0.01, 'kernel': 'rbf'}\n",
      "0.796 (+/-0.115) for {'C': 10, 'gamma': 0.001, 'kernel': 'linear'}\n",
      "0.796 (+/-0.115) for {'C': 10, 'gamma': 0.001, 'kernel': 'rbf'}\n",
      "0.796 (+/-0.115) for {'C': 10, 'gamma': 0.0001, 'kernel': 'linear'}\n",
      "0.624 (+/-0.007) for {'C': 10, 'gamma': 0.0001, 'kernel': 'rbf'}\n"
     ]
    }
   ],
   "source": [
    "print_results(cv)"
   ]
  },
  {
   "cell_type": "markdown",
   "metadata": {},
   "source": [
    "### Write out pickled model"
   ]
  },
  {
   "cell_type": "code",
   "execution_count": 20,
   "metadata": {},
   "outputs": [
    {
     "name": "stdout",
     "output_type": "stream",
     "text": [
      "SVC(C=1, break_ties=False, cache_size=200, class_weight=None, coef0=0.0,\n",
      "    decision_function_shape='ovr', degree=3, gamma=1, kernel='rbf', max_iter=-1,\n",
      "    probability=False, random_state=None, shrinking=True, tol=0.001,\n",
      "    verbose=False)\n"
     ]
    }
   ],
   "source": [
    "print(cv.best_estimator_)"
   ]
  },
  {
   "cell_type": "code",
   "execution_count": 21,
   "metadata": {},
   "outputs": [
    {
     "data": {
      "text/plain": [
       "array([0.8411215 , 0.8411215 , 0.76635514, 0.75700935, 0.85849057])"
      ]
     },
     "execution_count": 21,
     "metadata": {},
     "output_type": "execute_result"
    }
   ],
   "source": [
    "scores = cross_val_score(svc, tr_features, tr_labels.values.ravel(), cv=5)\n",
    "scores"
   ]
  },
  {
   "cell_type": "code",
   "execution_count": 22,
   "metadata": {},
   "outputs": [
    {
     "data": {
      "text/plain": [
       "['SVM_model.pkl']"
      ]
     },
     "execution_count": 22,
     "metadata": {},
     "output_type": "execute_result"
    }
   ],
   "source": [
    "joblib.dump(cv.best_estimator_, 'SVM_model.pkl')"
   ]
  }
 ],
 "metadata": {
  "kernelspec": {
   "display_name": "Python 3",
   "language": "python",
   "name": "python3"
  },
  "language_info": {
   "codemirror_mode": {
    "name": "ipython",
    "version": 3
   },
   "file_extension": ".py",
   "mimetype": "text/x-python",
   "name": "python",
   "nbconvert_exporter": "python",
   "pygments_lexer": "ipython3",
   "version": "3.6.8"
  }
 },
 "nbformat": 4,
 "nbformat_minor": 4
}
