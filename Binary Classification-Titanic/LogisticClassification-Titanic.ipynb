{
 "cells": [
  {
   "cell_type": "markdown",
   "metadata": {},
   "source": [
    "# Logistic Regression: Fit and evaluate a model"
   ]
  },
  {
   "cell_type": "code",
   "execution_count": 28,
   "metadata": {},
   "outputs": [],
   "source": [
    "import joblib\n",
    "import pandas as pd\n",
    "from sklearn.linear_model import LogisticRegression\n",
    "from sklearn.model_selection import GridSearchCV, cross_val_score\n",
    "from sklearn.metrics import accuracy_score, precision_score, recall_score, classification_report, confusion_matrix"
   ]
  },
  {
   "cell_type": "code",
   "execution_count": 29,
   "metadata": {},
   "outputs": [],
   "source": [
    "tr_features=pd.read_csv('train_features.csv')\n",
    "tr_labels=pd.read_csv('train_labels.csv')\n",
    "\n",
    "te_features=pd.read_csv('test_features.csv')\n",
    "te_labels=pd.read_csv('test_labels.csv')"
   ]
  },
  {
   "cell_type": "code",
   "execution_count": 30,
   "metadata": {},
   "outputs": [],
   "source": [
    "def print_results(results):\n",
    "    print('Best PARAMS: {}\\n'.format(results.best_params_))\n",
    "    means=results.cv_results_['mean_test_score']\n",
    "    stds=results.cv_results_['std_test_score']\n",
    "    for mean, std, params in zip(means, stds, results.cv_results_['params']):\n",
    "        print('{} (+/-{}) for {}' .format(round(mean,3), round(std*2,3), params))"
   ]
  },
  {
   "cell_type": "code",
   "execution_count": 31,
   "metadata": {},
   "outputs": [],
   "source": [
    "lr=LogisticRegression()\n",
    "parameters={\n",
    "        'C':[0.01, 0.01, 0.1,1, 10, 100, 1000],\n",
    "        'solver': ['liblinear'],\n",
    "        'penalty': ['l1', 'l2']\n",
    "}"
   ]
  },
  {
   "cell_type": "code",
   "execution_count": 32,
   "metadata": {},
   "outputs": [],
   "source": [
    "cv=GridSearchCV(lr, parameters, cv=5)"
   ]
  },
  {
   "cell_type": "code",
   "execution_count": 33,
   "metadata": {},
   "outputs": [
    {
     "data": {
      "text/plain": [
       "GridSearchCV(cv=5, error_score=nan,\n",
       "             estimator=LogisticRegression(C=1.0, class_weight=None, dual=False,\n",
       "                                          fit_intercept=True,\n",
       "                                          intercept_scaling=1, l1_ratio=None,\n",
       "                                          max_iter=100, multi_class='auto',\n",
       "                                          n_jobs=None, penalty='l2',\n",
       "                                          random_state=None, solver='lbfgs',\n",
       "                                          tol=0.0001, verbose=0,\n",
       "                                          warm_start=False),\n",
       "             iid='deprecated', n_jobs=None,\n",
       "             param_grid={'C': [0.01, 0.01, 0.1, 1, 10, 100, 1000],\n",
       "                         'penalty': ['l1', 'l2'], 'solver': ['liblinear']},\n",
       "             pre_dispatch='2*n_jobs', refit=True, return_train_score=False,\n",
       "             scoring=None, verbose=0)"
      ]
     },
     "execution_count": 33,
     "metadata": {},
     "output_type": "execute_result"
    }
   ],
   "source": [
    "cv.fit(tr_features, tr_labels.values.ravel())"
   ]
  },
  {
   "cell_type": "code",
   "execution_count": 34,
   "metadata": {},
   "outputs": [
    {
     "name": "stdout",
     "output_type": "stream",
     "text": [
      "Best PARAMS: {'C': 1, 'penalty': 'l2', 'solver': 'liblinear'}\n",
      "\n",
      "0.624 (+/-0.007) for {'C': 0.01, 'penalty': 'l1', 'solver': 'liblinear'}\n",
      "0.736 (+/-0.069) for {'C': 0.01, 'penalty': 'l2', 'solver': 'liblinear'}\n",
      "0.624 (+/-0.007) for {'C': 0.01, 'penalty': 'l1', 'solver': 'liblinear'}\n",
      "0.736 (+/-0.069) for {'C': 0.01, 'penalty': 'l2', 'solver': 'liblinear'}\n",
      "0.796 (+/-0.115) for {'C': 0.1, 'penalty': 'l1', 'solver': 'liblinear'}\n",
      "0.807 (+/-0.126) for {'C': 0.1, 'penalty': 'l2', 'solver': 'liblinear'}\n",
      "0.809 (+/-0.108) for {'C': 1, 'penalty': 'l1', 'solver': 'liblinear'}\n",
      "0.811 (+/-0.109) for {'C': 1, 'penalty': 'l2', 'solver': 'liblinear'}\n",
      "0.802 (+/-0.125) for {'C': 10, 'penalty': 'l1', 'solver': 'liblinear'}\n",
      "0.802 (+/-0.118) for {'C': 10, 'penalty': 'l2', 'solver': 'liblinear'}\n",
      "0.802 (+/-0.118) for {'C': 100, 'penalty': 'l1', 'solver': 'liblinear'}\n",
      "0.802 (+/-0.118) for {'C': 100, 'penalty': 'l2', 'solver': 'liblinear'}\n",
      "0.802 (+/-0.118) for {'C': 1000, 'penalty': 'l1', 'solver': 'liblinear'}\n",
      "0.802 (+/-0.118) for {'C': 1000, 'penalty': 'l2', 'solver': 'liblinear'}\n"
     ]
    }
   ],
   "source": [
    "print_results(cv)"
   ]
  },
  {
   "cell_type": "code",
   "execution_count": 35,
   "metadata": {},
   "outputs": [
    {
     "name": "stdout",
     "output_type": "stream",
     "text": [
      "LogisticRegression(C=1, class_weight=None, dual=False, fit_intercept=True,\n",
      "                   intercept_scaling=1, l1_ratio=None, max_iter=100,\n",
      "                   multi_class='auto', n_jobs=None, penalty='l2',\n",
      "                   random_state=None, solver='liblinear', tol=0.0001, verbose=0,\n",
      "                   warm_start=False)\n"
     ]
    }
   ],
   "source": [
    "print(cv.best_estimator_)"
   ]
  },
  {
   "cell_type": "code",
   "execution_count": 36,
   "metadata": {},
   "outputs": [
    {
     "data": {
      "text/plain": [
       "array([0.85981308, 0.82242991, 0.71962617, 0.78504673, 0.86792453])"
      ]
     },
     "execution_count": 36,
     "metadata": {},
     "output_type": "execute_result"
    }
   ],
   "source": [
    "scores = cross_val_score(lr, tr_features, tr_labels.values.ravel(), cv=5)\n",
    "scores"
   ]
  },
  {
   "cell_type": "markdown",
   "metadata": {},
   "source": [
    "### Write out pickled model"
   ]
  },
  {
   "cell_type": "code",
   "execution_count": 37,
   "metadata": {},
   "outputs": [
    {
     "data": {
      "text/plain": [
       "['LR_model.pkl']"
      ]
     },
     "execution_count": 37,
     "metadata": {},
     "output_type": "execute_result"
    }
   ],
   "source": [
    "joblib.dump(cv.best_estimator_, 'LR_model.pkl')"
   ]
  },
  {
   "cell_type": "code",
   "execution_count": 38,
   "metadata": {},
   "outputs": [
    {
     "data": {
      "text/plain": [
       "array([[0.06985861, 0.93014139],\n",
       "       [0.64459595, 0.35540405],\n",
       "       [0.83860885, 0.16139115],\n",
       "       [0.26662706, 0.73337294],\n",
       "       [0.62546758, 0.37453242],\n",
       "       [0.83860885, 0.16139115],\n",
       "       [0.89094758, 0.10905242],\n",
       "       [0.83549072, 0.16450928],\n",
       "       [0.88387185, 0.11612815],\n",
       "       [0.83853863, 0.16146137],\n",
       "       [0.87069604, 0.12930396],\n",
       "       [0.81858802, 0.18141198],\n",
       "       [0.89095202, 0.10904798],\n",
       "       [0.84239716, 0.15760284],\n",
       "       [0.88202621, 0.11797379],\n",
       "       [0.88187976, 0.11812024],\n",
       "       [0.08753087, 0.91246913],\n",
       "       [0.60977607, 0.39022393],\n",
       "       [0.84666449, 0.15333551],\n",
       "       [0.84953905, 0.15046095],\n",
       "       [0.89766733, 0.10233267],\n",
       "       [0.29379379, 0.70620621],\n",
       "       [0.89629875, 0.10370125],\n",
       "       [0.39698417, 0.60301583],\n",
       "       [0.88746573, 0.11253427],\n",
       "       [0.87547196, 0.12452804],\n",
       "       [0.42126075, 0.57873925],\n",
       "       [0.83861008, 0.16138992],\n",
       "       [0.83783922, 0.16216078],\n",
       "       [0.64901119, 0.35098881],\n",
       "       [0.44113958, 0.55886042],\n",
       "       [0.88746268, 0.11253732],\n",
       "       [0.31368972, 0.68631028],\n",
       "       [0.3944212 , 0.6055788 ],\n",
       "       [0.53407312, 0.46592688],\n",
       "       [0.36460205, 0.63539795],\n",
       "       [0.48387974, 0.51612026],\n",
       "       [0.26059382, 0.73940618],\n",
       "       [0.87630748, 0.12369252],\n",
       "       [0.72210826, 0.27789174],\n",
       "       [0.73229989, 0.26770011],\n",
       "       [0.29656221, 0.70343779],\n",
       "       [0.36978319, 0.63021681],\n",
       "       [0.50327202, 0.49672798],\n",
       "       [0.83883661, 0.16116339],\n",
       "       [0.90683553, 0.09316447],\n",
       "       [0.42270821, 0.57729179],\n",
       "       [0.8147365 , 0.1852635 ],\n",
       "       [0.81842619, 0.18157381],\n",
       "       [0.24697147, 0.75302853],\n",
       "       [0.84890399, 0.15109601],\n",
       "       [0.26540923, 0.73459077],\n",
       "       [0.16294172, 0.83705828],\n",
       "       [0.51101251, 0.48898749],\n",
       "       [0.89603703, 0.10396297],\n",
       "       [0.91968504, 0.08031496],\n",
       "       [0.25069899, 0.74930101],\n",
       "       [0.80502035, 0.19497965],\n",
       "       [0.77060555, 0.22939445],\n",
       "       [0.90761478, 0.09238522],\n",
       "       [0.89100893, 0.10899107],\n",
       "       [0.07766537, 0.92233463],\n",
       "       [0.89757087, 0.10242913],\n",
       "       [0.09964598, 0.90035402],\n",
       "       [0.60351185, 0.39648815],\n",
       "       [0.88745699, 0.11254301],\n",
       "       [0.34153442, 0.65846558],\n",
       "       [0.89095202, 0.10904798],\n",
       "       [0.75954747, 0.24045253],\n",
       "       [0.24901568, 0.75098432],\n",
       "       [0.84890399, 0.15109601],\n",
       "       [0.61238674, 0.38761326],\n",
       "       [0.43282505, 0.56717495],\n",
       "       [0.34275117, 0.65724883],\n",
       "       [0.80877713, 0.19122287],\n",
       "       [0.8857038 , 0.1142962 ],\n",
       "       [0.88811633, 0.11188367],\n",
       "       [0.7914103 , 0.2085897 ],\n",
       "       [0.83861132, 0.16138868],\n",
       "       [0.26966201, 0.73033799],\n",
       "       [0.19500327, 0.80499673],\n",
       "       [0.89402323, 0.10597677],\n",
       "       [0.23103431, 0.76896569],\n",
       "       [0.88736543, 0.11263457],\n",
       "       [0.59445348, 0.40554652],\n",
       "       [0.93942817, 0.06057183],\n",
       "       [0.32254733, 0.67745267],\n",
       "       [0.82264721, 0.17735279],\n",
       "       [0.91236944, 0.08763056],\n",
       "       [0.84479877, 0.15520123],\n",
       "       [0.12775893, 0.87224107],\n",
       "       [0.84244349, 0.15755651],\n",
       "       [0.87441802, 0.12558198],\n",
       "       [0.91704875, 0.08295125],\n",
       "       [0.2807518 , 0.7192482 ],\n",
       "       [0.25190942, 0.74809058],\n",
       "       [0.28683868, 0.71316132],\n",
       "       [0.26176069, 0.73823931],\n",
       "       [0.83860885, 0.16139115],\n",
       "       [0.83523893, 0.16476107],\n",
       "       [0.88745699, 0.11254301],\n",
       "       [0.82310177, 0.17689823],\n",
       "       [0.29381342, 0.70618658],\n",
       "       [0.81427004, 0.18572996],\n",
       "       [0.29226296, 0.70773704],\n",
       "       [0.84244349, 0.15755651],\n",
       "       [0.80376873, 0.19623127],\n",
       "       [0.09377957, 0.90622043],\n",
       "       [0.66757015, 0.33242985],\n",
       "       [0.07331377, 0.92668623],\n",
       "       [0.38703618, 0.61296382],\n",
       "       [0.79108591, 0.20891409],\n",
       "       [0.89267707, 0.10732293],\n",
       "       [0.90247348, 0.09752652],\n",
       "       [0.89096299, 0.10903701],\n",
       "       [0.41679143, 0.58320857],\n",
       "       [0.72705651, 0.27294349],\n",
       "       [0.83860885, 0.16139115],\n",
       "       [0.66895324, 0.33104676],\n",
       "       [0.92478727, 0.07521273],\n",
       "       [0.28435342, 0.71564658],\n",
       "       [0.90143317, 0.09856683],\n",
       "       [0.56292486, 0.43707514],\n",
       "       [0.82291417, 0.17708583],\n",
       "       [0.5953605 , 0.4046395 ],\n",
       "       [0.92273965, 0.07726035],\n",
       "       [0.30916499, 0.69083501],\n",
       "       [0.87826842, 0.12173158],\n",
       "       [0.89431434, 0.10568566],\n",
       "       [0.48741694, 0.51258306],\n",
       "       [0.94859303, 0.05140697],\n",
       "       [0.73089784, 0.26910216],\n",
       "       [0.33358881, 0.66641119],\n",
       "       [0.83140887, 0.16859113],\n",
       "       [0.73089784, 0.26910216],\n",
       "       [0.61849144, 0.38150856],\n",
       "       [0.80124303, 0.19875697],\n",
       "       [0.07874894, 0.92125106],\n",
       "       [0.53866864, 0.46133136],\n",
       "       [0.9119315 , 0.0880685 ],\n",
       "       [0.92232919, 0.07767081],\n",
       "       [0.42904851, 0.57095149],\n",
       "       [0.37434324, 0.62565676],\n",
       "       [0.9136148 , 0.0863852 ],\n",
       "       [0.26027334, 0.73972666],\n",
       "       [0.87642947, 0.12357053],\n",
       "       [0.31109081, 0.68890919],\n",
       "       [0.6581001 , 0.3418999 ],\n",
       "       [0.89096299, 0.10903701],\n",
       "       [0.90711481, 0.09288519],\n",
       "       [0.28388896, 0.71611104],\n",
       "       [0.88928594, 0.11071406],\n",
       "       [0.38285566, 0.61714434],\n",
       "       [0.83860885, 0.16139115],\n",
       "       [0.71272823, 0.28727177],\n",
       "       [0.91145944, 0.08854056],\n",
       "       [0.81459626, 0.18540374],\n",
       "       [0.87824884, 0.12175116],\n",
       "       [0.82784796, 0.17215204],\n",
       "       [0.31027856, 0.68972144],\n",
       "       [0.14736317, 0.85263683],\n",
       "       [0.79747918, 0.20252082],\n",
       "       [0.91836286, 0.08163714],\n",
       "       [0.29379379, 0.70620621],\n",
       "       [0.88925379, 0.11074621],\n",
       "       [0.89436739, 0.10563261],\n",
       "       [0.0562538 , 0.9437462 ],\n",
       "       [0.81858802, 0.18141198],\n",
       "       [0.50327202, 0.49672798],\n",
       "       [0.05739829, 0.94260171],\n",
       "       [0.65742221, 0.34257779],\n",
       "       [0.88922494, 0.11077506],\n",
       "       [0.61229982, 0.38770018],\n",
       "       [0.06102805, 0.93897195],\n",
       "       [0.34875758, 0.65124242],\n",
       "       [0.34798306, 0.65201694],\n",
       "       [0.60984446, 0.39015554],\n",
       "       [0.05079233, 0.94920767]])"
      ]
     },
     "execution_count": 38,
     "metadata": {},
     "output_type": "execute_result"
    }
   ],
   "source": [
    "prob_te=cv.predict_proba(te_features)\n",
    "prob_te"
   ]
  },
  {
   "cell_type": "code",
   "execution_count": 39,
   "metadata": {},
   "outputs": [
    {
     "data": {
      "text/plain": [
       "array([1, 0, 0, 1, 0, 0, 0, 0, 0, 0, 0, 0, 0, 0, 0, 0, 1, 0, 0, 0, 0, 1,\n",
       "       0, 1, 0, 0, 1, 0, 0, 0, 1, 0, 1, 1, 0, 1, 1, 1, 0, 0, 0, 1, 1, 0,\n",
       "       0, 0, 1, 0, 0, 1, 0, 1, 1, 0, 0, 0, 1, 0, 0, 0, 0, 1, 0, 1, 0, 0,\n",
       "       1, 0, 0, 1, 0, 0, 1, 1, 0, 0, 0, 0, 0, 1, 1, 0, 1, 0, 0, 0, 1, 0,\n",
       "       0, 0, 1, 0, 0, 0, 1, 1, 1, 1, 0, 0, 0, 0, 1, 0, 1, 0, 0, 1, 0, 1,\n",
       "       1, 0, 0, 0, 0, 1, 0, 0, 0, 0, 1, 0, 0, 0, 0, 0, 1, 0, 0, 1, 0, 0,\n",
       "       1, 0, 0, 0, 0, 1, 0, 0, 0, 1, 1, 0, 1, 0, 1, 0, 0, 0, 1, 0, 1, 0,\n",
       "       0, 0, 0, 0, 0, 1, 1, 0, 0, 1, 0, 0, 1, 0, 0, 1, 0, 0, 0, 1, 1, 1,\n",
       "       0, 1], dtype=int64)"
      ]
     },
     "execution_count": 39,
     "metadata": {},
     "output_type": "execute_result"
    }
   ],
   "source": [
    "pred_te = cv.predict(te_features)\n",
    "pred_te"
   ]
  },
  {
   "cell_type": "code",
   "execution_count": 40,
   "metadata": {},
   "outputs": [
    {
     "name": "stdout",
     "output_type": "stream",
     "text": [
      "              precision    recall  f1-score   support\n",
      "\n",
      "           0       0.80      0.83      0.81       113\n",
      "           1       0.68      0.63      0.66        65\n",
      "\n",
      "    accuracy                           0.76       178\n",
      "   macro avg       0.74      0.73      0.73       178\n",
      "weighted avg       0.76      0.76      0.76       178\n",
      "\n",
      "[[94 19]\n",
      " [24 41]]\n"
     ]
    }
   ],
   "source": [
    "print(classification_report(te_labels, pred_te))\n",
    "print(confusion_matrix(te_labels, pred_te))"
   ]
  }
 ],
 "metadata": {
  "kernelspec": {
   "display_name": "Python 3",
   "language": "python",
   "name": "python3"
  },
  "language_info": {
   "codemirror_mode": {
    "name": "ipython",
    "version": 3
   },
   "file_extension": ".py",
   "mimetype": "text/x-python",
   "name": "python",
   "nbconvert_exporter": "python",
   "pygments_lexer": "ipython3",
   "version": "3.6.8"
  }
 },
 "nbformat": 4,
 "nbformat_minor": 4
}
